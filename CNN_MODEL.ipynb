{
  "cells": [
    {
      "cell_type": "markdown",
      "metadata": {
        "id": "view-in-github",
        "colab_type": "text"
      },
      "source": [
        "<a href=\"https://colab.research.google.com/github/sridivya1/Covid19-Prediction/blob/main/CNN_MODEL.ipynb\" target=\"_parent\"><img src=\"https://colab.research.google.com/assets/colab-badge.svg\" alt=\"Open In Colab\"/></a>"
      ]
    },
    {
      "cell_type": "code",
      "execution_count": null,
      "metadata": {
        "id": "4P0hIPDBrRPF"
      },
      "outputs": [],
      "source": [
        "import os\n",
        "import numpy as np\n",
        "import cv2\n",
        "from sklearn.model_selection import train_test_split\n",
        "import tensorflow as tf\n",
        "from tensorflow.keras.preprocessing.image import ImageDataGenerator"
      ]
    },
    {
      "cell_type": "code",
      "execution_count": null,
      "metadata": {
        "id": "DQpaMSXtrg3O"
      },
      "outputs": [],
      "source": [
        "from google.colab import drive\n",
        "drive.mount('/content/drive')"
      ]
    },
    {
      "cell_type": "code",
      "execution_count": null,
      "metadata": {
        "id": "ogrNFLZrr-fy"
      },
      "outputs": [],
      "source": [
        "import shutil"
      ]
    },
    {
      "cell_type": "code",
      "execution_count": null,
      "metadata": {
        "id": "fpHtw-tYsefq"
      },
      "outputs": [],
      "source": [
        "base = '/content/drive/My Drive/Covid_DS'\n"
      ]
    },
    {
      "cell_type": "code",
      "execution_count": null,
      "metadata": {
        "id": "89LUoS_8pgEM"
      },
      "outputs": [],
      "source": [
        "directories = [d for d in os.listdir(base) if os.path.isdir(os.path.join(base, d))]\n",
        "\n",
        "# Print the list of directories\n",
        "print(\"Directories in\", base, \":\")\n",
        "for directory in directories:\n",
        "    print(directory)"
      ]
    },
    {
      "cell_type": "code",
      "execution_count": null,
      "metadata": {
        "id": "vHnffIkmtMDz"
      },
      "outputs": [],
      "source": [
        "base = '/content/drive/My Drive/Covid_DS/DATASET'"
      ]
    },
    {
      "cell_type": "code",
      "execution_count": null,
      "metadata": {
        "id": "i8mGhjQB3ne6"
      },
      "outputs": [],
      "source": [
        "#1.Loading the data"
      ]
    },
    {
      "cell_type": "code",
      "execution_count": null,
      "metadata": {
        "id": "3uO0YIeps1Yj"
      },
      "outputs": [],
      "source": [
        "# Define the class labels\n",
        "class_labels = [\"covid\", \"pneumonia\", \"normal\"]"
      ]
    },
    {
      "cell_type": "code",
      "execution_count": null,
      "metadata": {
        "id": "0Qz9XUjbwUEX"
      },
      "outputs": [],
      "source": [
        "data = []"
      ]
    },
    {
      "cell_type": "code",
      "execution_count": null,
      "metadata": {
        "id": "8YMBUn1sR3E1"
      },
      "outputs": [],
      "source": [
        "# Set random seeds for reproducibility\n",
        "np.random.seed(42)\n",
        "tf.random.set_seed(42)"
      ]
    },
    {
      "cell_type": "code",
      "execution_count": null,
      "metadata": {
        "id": "jvbGx0zbwftz"
      },
      "outputs": [],
      "source": [
        "def load_and_preprocess_data_in_batches(base_dir, class_labels, batch_size=100):\n",
        "    batch_data = []\n",
        "\n",
        "    for label in class_labels:\n",
        "        class_path = os.path.join(base_dir, label)\n",
        "\n",
        "        # Loop through the images in the class folder\n",
        "        for img_name in os.listdir(class_path):\n",
        "            img_path = os.path.join(class_path, img_name)\n",
        "            img = cv2.imread(img_path)\n",
        "            img = cv2.cvtColor(img, cv2.COLOR_BGR2RGB) # Convert to RGB\n",
        "            img = cv2.resize(img, (100, 100)) # Resize to a smaller size (adjust as needed)\n",
        "            img = img / 255.0 # Normalize\n",
        "\n",
        "            # Append image and its corresponding label index to the batch data\n",
        "            batch_data.append([img, class_labels.index(label)])\n",
        "\n",
        "            # Check if batch size is reached, then add to main data and clear batch data\n",
        "            if len(batch_data) == batch_size:\n",
        "                data.extend(batch_data)\n",
        "                batch_data = []\n",
        "\n",
        "    # Add remaining data if any\n",
        "    if batch_data:\n",
        "        data.extend(batch_data)\n"
      ]
    },
    {
      "cell_type": "code",
      "execution_count": null,
      "metadata": {
        "id": "ZP4FSAxqLySN"
      },
      "outputs": [],
      "source": [
        "load_and_preprocess_data_in_batches(base, class_labels)\n",
        "X = np.array([item[0] for item in data])\n",
        "y = np.array([item[1] for item in data])"
      ]
    },
    {
      "cell_type": "code",
      "execution_count": null,
      "metadata": {
        "id": "w7KEVlL9KEVn"
      },
      "outputs": [],
      "source": [
        "import matplotlib.pyplot as plt\n",
        "import random\n",
        "\n",
        "# Assuming you have already loaded and preprocessed the data in batches\n",
        "# data = [ [img1, label1], [img2, label2], ... ]\n",
        "\n",
        "# Shuffle the data\n",
        "random.shuffle(data)\n",
        "\n",
        "# Visualize some random sample images from all classes\n",
        "num_samples = 15\n",
        "num_rows = (num_samples + 3) // 4  # Calculate the number of rows needed\n",
        "\n",
        "fig, axes = plt.subplots(num_rows, 4, figsize=(20, 5*num_rows))  # Increase figsize\n",
        "\n",
        "for i in range(num_samples):\n",
        "    row = i // 4\n",
        "    col = i % 4\n",
        "    img, label = data[i]\n",
        "    axes[row, col].imshow(img)\n",
        "    axes[row, col].set_title(class_labels[label])\n",
        "    axes[row, col].axis('off')\n",
        "\n",
        "# Hide empty subplots\n",
        "for i in range(num_samples, num_rows*4):\n",
        "    row = i // 4\n",
        "    col = i % 4\n",
        "    axes[row, col].axis('off')\n",
        "\n",
        "plt.show()\n"
      ]
    },
    {
      "cell_type": "code",
      "execution_count": null,
      "metadata": {
        "id": "0a8aNjuKKeLy"
      },
      "outputs": [],
      "source": [
        "from sklearn.model_selection import train_test_split\n",
        "X_train, X_test, y_train, y_test = train_test_split(X, y, test_size=0.2, random_state=42)\n",
        "\n"
      ]
    },
    {
      "cell_type": "code",
      "execution_count": null,
      "metadata": {
        "id": "JDqytwlOKpqZ"
      },
      "outputs": [],
      "source": [
        "print(len(X_train))\n",
        "print(len(y_train))\n",
        "print(len(X_test))\n",
        "print(len(y_test))\n"
      ]
    },
    {
      "cell_type": "code",
      "execution_count": null,
      "metadata": {
        "id": "t11UkGkZKszm"
      },
      "outputs": [],
      "source": [
        "from tensorflow import keras\n",
        "from tensorflow.keras.models import Sequential\n",
        "from tensorflow.keras.layers import Dense, Conv2D, MaxPooling2D, Flatten, Dropout"
      ]
    },
    {
      "cell_type": "code",
      "execution_count": null,
      "metadata": {
        "id": "74BxQTX36059"
      },
      "outputs": [],
      "source": [
        "model = Sequential()\n",
        "\n",
        "# Convolutional layers\n",
        "model.add(Conv2D(32, (3, 3), activation='relu', input_shape=(100, 100, 3)))\n",
        "model.add(MaxPooling2D((2, 2)))\n",
        "model.add(Conv2D(64, (3, 3), activation='relu'))\n",
        "model.add(MaxPooling2D((2, 2)))\n",
        "\n",
        "# Flatten the output of the convolutional layers\n",
        "model.add(Flatten())\n",
        "\n",
        "# Dense layers\n",
        "model.add(Dense(128, activation='relu'))\n",
        "model.add(Dropout(0.5))\n",
        "model.add(Dense(len(class_labels), activation='softmax'))"
      ]
    },
    {
      "cell_type": "code",
      "execution_count": null,
      "metadata": {
        "id": "qGo64u_3673J"
      },
      "outputs": [],
      "source": [
        "model.compile(optimizer='adam', loss='sparse_categorical_crossentropy', metrics=['accuracy'])"
      ]
    },
    {
      "cell_type": "code",
      "execution_count": null,
      "metadata": {
        "id": "gQzrcznJ7A7P"
      },
      "outputs": [],
      "source": [
        "epochs = 10  # Number of epochs\n",
        "batch_size = 32  # Batch size\n",
        "\n",
        "history=model.fit(X_train, y_train, batch_size=batch_size, epochs=epochs, validation_data=(X_test, y_test))"
      ]
    },
    {
      "cell_type": "code",
      "execution_count": null,
      "metadata": {
        "id": "J6OABUsd_xa1"
      },
      "outputs": [],
      "source": [
        "test_loss, test_accuracy = model.evaluate(X_test, y_test)\n",
        "print(f\"Test loss: {test_loss:.4f}\")\n",
        "print(f\"Test accuracy: {test_accuracy:.4f}\")\n"
      ]
    },
    {
      "cell_type": "code",
      "execution_count": null,
      "metadata": {
        "id": "4bukyqe1_6Hl"
      },
      "outputs": [],
      "source": [
        "plt.plot(history.history['accuracy'], label='Training Accuracy')\n",
        "plt.plot(history.history['val_accuracy'], label='Validation Accuracy')\n",
        "plt.title('Training and Validation Accuracy')\n",
        "plt.xlabel('Epoch')\n",
        "plt.ylabel('Accuracy')\n",
        "plt.legend()\n",
        "plt.show()\n",
        "\n",
        "# Plot training and validation loss\n",
        "plt.plot(history.history['loss'], label='Training Loss')\n",
        "plt.plot(history.history['val_loss'], label='Validation Loss')\n",
        "plt.title('Training and Validation Loss')\n",
        "plt.xlabel('Epoch')\n",
        "plt.ylabel('Loss')\n",
        "plt.legend()\n",
        "plt.show()"
      ]
    },
    {
      "cell_type": "code",
      "execution_count": null,
      "metadata": {
        "id": "j3wkNOiTIvZN"
      },
      "outputs": [],
      "source": [
        "model.save('CNN_model.h5')"
      ]
    }
  ],
  "metadata": {
    "colab": {
      "toc_visible": true,
      "provenance": [],
      "mount_file_id": "1hC0kJdpIcpPFEvQOman56PbGoBNPuyP5",
      "authorship_tag": "ABX9TyMj/jpN21Xmb03EfbXgKnvu",
      "include_colab_link": true
    },
    "kernelspec": {
      "display_name": "Python 3",
      "name": "python3"
    },
    "language_info": {
      "name": "python"
    }
  },
  "nbformat": 4,
  "nbformat_minor": 0
}